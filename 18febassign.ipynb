{
 "cells": [
  {
   "cell_type": "markdown",
   "id": "cf7cfd9e-a75f-477d-a77d-241ada0860ad",
   "metadata": {},
   "source": [
    "## ASSIGNMENT"
   ]
  },
  {
   "cell_type": "markdown",
   "id": "6caa32c2-d10a-42fe-8145-ecce225dcd36",
   "metadata": {},
   "source": [
    "Q1. What is an API? Give an example, where an API is used in real life."
   ]
  },
  {
   "cell_type": "markdown",
   "id": "d5d39358-caf7-4cce-b7c8-2dd5a845164c",
   "metadata": {},
   "source": [
    "APIs are mechanisms that enable two software components to communicate with each other using a set of definitions and protocols. For example, the weather bureau’s software system contains daily weather data. The weather app on your phone “talks” to this system via APIs and shows you daily weather updates on your phone.\n",
    "\n",
    "API stands for Application Programming Interface. In the context of APIs, the word Application refers to any software with a distinct function. Interface can be thought of as a contract of service between two applications. This contract defines how the two communicate with each other using requests and responses. \n",
    "\n",
    "Ex-\n",
    "Weather API: A geolocation and meteorological information service with many different APIs that range from weather forecasting to time zones to astronomical information and much more.\n",
    "\n",
    "Google Maps: Thanks to standards applied by Google, most websites can use Google Maps APIs to integrate their maps.It is a popular app on billions of mobile devices around the world, but are few dozen other apps that use Google Maps APIs to pull customized location data, send directions, and analyze all types of location data that can help businesses provide better services and establish streamlined connections with suppliers, customers, delivery services, and more.\n",
    "\n",
    "A deeper geographical data cache than what is provided through various Google Maps APIs would be difficult to find for business app developers. Businesses that manage a fleet utilize this data to pinpoint vehicle positions and chart the most effective routes to destinations, saving time and money on fuel and vehicle maintenance. This data is also used by ridesharing applications for similar purposes.\n",
    "\n",
    "Travel firms adore the autocomplete address capabilities, which allow their customers to quickly enter destinations for directions and alternate routes, and the \"places nearby\" functions. Google Maps provides a plethora of customizable, simple-to-implement APIs that companies may use to maximize their location data and services to interact with all sections of their organization. Because, at the end of the day, it's all about location, location, and location.\n",
    "\n"
   ]
  },
  {
   "cell_type": "markdown",
   "id": "09ac6697-5c16-42fd-affc-515ed85318fa",
   "metadata": {},
   "source": [
    "Q2. Give advantages and disadvantages of using API."
   ]
  },
  {
   "cell_type": "markdown",
   "id": "9970438f-7202-4625-8233-df2676bfd16d",
   "metadata": {},
   "source": [
    "The advantages are as follows:\n",
    "\n",
    ". Efficiency: API produces efficient, quicker, and more reliable results than the outputs produced by human beings in an organization.\n",
    "\n",
    ". Flexible delivery of services: API provides fast and flexible delivery of services according to developers’ requirements.\n",
    "\n",
    ". Integration: The best feature of API is that it allows the movement of data between various sites and thus enhances the integrated user experience.\n",
    "\n",
    ". Automation: As API makes use of robotic computers rather than humans, it produces better and more automated results.\n",
    "New functionality: While using API the developers find new tools and functionality for API exchanges.\n",
    "\n",
    ". Reach: APIs let you create layers in apps in order to distribute information to different audiences.\n",
    "\n",
    "  Customization: Furthermore, it can serve as a solution to create different experiences for users, letting protocols, functions, and commands be adapted according to specific demands.\n",
    "  \n",
    "\n",
    "Disadvantages are:\n",
    "\n",
    ". Cost: Developing and implementing API is costly at times and requires high maintenance and support from developers.\n",
    "\n",
    ". Security issues: Using API adds another layer of surface which is then prone to attacks, and hence the security risk problem is common in APIs."
   ]
  },
  {
   "cell_type": "markdown",
   "id": "6728c3f7-ab34-4a76-91b0-26cee03aa90b",
   "metadata": {},
   "source": [
    "Q3. What is a Web API? Differentiate between API and Web API."
   ]
  },
  {
   "cell_type": "markdown",
   "id": "76f5bf18-1128-4253-807d-fc15f00a5f03",
   "metadata": {},
   "source": [
    "A Web API or Web Service API is an application processing interface between a web server and web browser. All web services are APIs but not all APIs are web services. REST API is a special type of Web API that uses the standard architectural style explained above.\n",
    "\n",
    "Web API Is simply an API for the web. It is an API that can be accessed using the HTTP protocol. It can be built using Java, .nET, etc. It is implemented to extend the functionality of a browser, simplify complex functions, and provide easy syntax to complex code. \n",
    "\n",
    "The four main types of web APIs are:\n",
    "\n",
    "Open API\n",
    "Partner API\n",
    "Internal API\n",
    "Composite API\n",
    "\n",
    "Here are some essential features of Web API:\n",
    "\n",
    "Efficiency\n",
    "Wider reach\n",
    "Customizable\n",
    "Personalization\n",
    "Data ownership\n",
    "Easy integration with GUI\n",
    "Time effective\n",
    "Language-independent\n",
    "\n",
    "\n",
    "API supports traditional CRUD (Create Read Update Delete) actions as it works with HTTP verbs GET, PUT, POST, and DELETE.\n",
    "API helps you to expose service data to the browser\n",
    "It is based on HTTP, which is easy to define, expose in REST-full way\n",
    "\n"
   ]
  },
  {
   "cell_type": "markdown",
   "id": "bfbb7b50-51c6-4d33-acf0-d9641164a374",
   "metadata": {},
   "source": [
    "API stands for Application Programming Interface. It is a set of rules and protocols that allows different software applications to communicate and interact with each other. APIs define the methods, data formats, and protocols used for communication between software components.\n",
    "\n",
    "A Web API, on the other hand, specifically refers to an API that is accessed over the web using HTTP (Hypertext Transfer Protocol). It allows applications to interact with web-based services and resources.\n",
    "\n",
    "The key differences between API and Web API:\n",
    "\n",
    "1. Scope: API is a broader term that encompasses all types of interfaces for software communication, including libraries, frameworks, operating systems, databases, etc. Web API is a subset of APIs that specifically refers to APIs accessed over the web.\n",
    "\n",
    "2. Communication Protocol: APIs can use different protocols for communication, such as HTTP, TCP/IP, SOAP, REST, etc. Web APIs specifically use HTTP as the communication protocol.\n",
    "\n",
    "3. Access Method: APIs can be accessed through various methods, including libraries, SDKs (Software Development Kits), command-line interfaces, etc. Web APIs are typically accessed through HTTP requests using URLs, with commonly used methods being GET, POST, PUT, DELETE, etc.\n",
    "\n",
    "4. Resource Orientation: Web APIs are often designed in a resource-oriented manner, where resources are exposed as URLs, and the HTTP methods are used to perform actions on those resources. This is in contrast to APIs in general, which can have different architectural styles and designs.\n",
    "\n",
    "5. Web Standards: Web APIs often follow web standards and conventions, such as using JSON or XML for data serialization, employing RESTful principles, and leveraging HTTP status codes for indicating the outcome of requests.\n",
    "\n",
    "In summary, while API is a broader term that encompasses various types of software interfaces, Web API specifically refers to APIs accessed over the web using HTTP. Web APIs follow web standards and are designed for web-based communication and resource manipulation."
   ]
  },
  {
   "cell_type": "markdown",
   "id": "64dfa633-f77c-4cd5-93f8-5d123692f6ca",
   "metadata": {},
   "source": [
    "Q4. Explain REST and SOAP Architecture. Mention shortcomings of SOAP."
   ]
  },
  {
   "cell_type": "markdown",
   "id": "6b12e553-34dd-4f32-a080-593b69335bb2",
   "metadata": {},
   "source": [
    "REST:\n",
    "\n",
    "REST technology is generally preferred to the more robust Simple Object Access Protocol (SOAP) technology because REST uses less bandwidth, simple and flexible making it more suitable for internet usage. It’s used to fetch or give some information from a web service. All communication done via REST API uses only HTTP request. \n",
    "\n",
    "Working: A request is sent from client to server in the form of a web URL as HTTP GET or POST or PUT or DELETE request. After that, a response comes back from the server in the form of a resource which can be anything like HTML, XML, Image, or JSON. But now JSON is the most popular format being used in Web Services. \n",
    "\n",
    "In HTTP there are five methods that are commonly used in a REST-based Architecture i.e., POST, GET, PUT, PATCH, and DELETE. These correspond to create, read, update, and delete (or CRUD) operations respectively. There are other methods which are less frequently used like OPTIONS and HEAD.  \n",
    "\n",
    "GET: The HTTP GET method is used to read (or retrieve) a representation of a resource. In the safe path, GET returns a representation in XML or JSON and an HTTP response code of 200 (OK). In an error case, it most often returns a 404 (NOT FOUND) or 400 (BAD REQUEST). \n",
    "\n",
    "POST: The POST verb is most often utilized to create new resources. In particular, it’s used to create subordinate resources. That is, subordinate to some other (e.g. parent) resource. On successful creation, return HTTP status 201, returning a Location header with a link to the newly-created resource with the 201 HTTP status. \n",
    "\n",
    "PUT: It is used for updating the capabilities. However, PUT can also be used to create a resource in the case where the resource ID is chosen by the client instead of by the server. In other words, if the PUT is to a URI that contains the value of a non-existent resource ID. On successful update, return 200 (or 204 if not returning any content in the body) from a PUT. If using PUT for create, return HTTP status 201 on successful creation. PUT is not safe operation but it’s idempotent. \n",
    "\n",
    "PATCH: It is used to modify capabilities. The PATCH request only needs to contain the changes to the resource, not the complete resource. This resembles PUT, but the body contains a set of instructions describing how a resource currently residing on the server should be modified to produce a new version. This means that the PATCH body should not just be a modified part of the resource, but in some kind of patch language like JSON Patch or XML Patch. PATCH is neither safe nor idempotent. \n",
    "\n",
    "DELETE: It is used to delete a resource identified by a URI. On successful deletion, return HTTP status 200 (OK) along with a response body. \n",
    "\n",
    "\n",
    "SOAP:\n",
    "\n",
    "Simple Object Access Protocol(SOAP) is a network protocol for exchanging structured data between nodes. It uses XML format to transfer messages. It works on top of application layer protocols like HTML and SMTP for notations and transmission. SOAP allows processes to communicate throughout platforms, languages and operating systems, since protocols like HTTP are already installed on all platforms.\n",
    "SOAP was designed by Bob Atkinson, Don Box, Dave Winer, and Mohsen Al-Ghosein at Microsoft in 1998. SOAP was maintained by the XML Protocol Working Group of the World Wide Web Consortium until 2009.\n",
    "\n",
    "SOAP message transmits some basic information as given below\n",
    "Information about message structure and instructions on processing it.\n",
    "Encoding instructions for application defined data types.\n",
    "Information about Remote Procedure Calls and their responses.\n",
    "\n",
    "\n",
    "Envelope:\n",
    "It specifies that the XML message is a SOAP message. A SOAP message can be defined as an XML document containing header and body encapsulated in the envelope. The fault is within the body of the message.\n",
    "\n",
    "Header:\n",
    "This part is not mandatory. But when it is present it can provide crucial information about the applications.\n",
    "\n",
    "Body:\n",
    "It contains the actual message that is being transmitted. Fault is contained within the body tags.\n",
    "\n",
    "Fault:\n",
    "This section contains the status of the application and also contains errors in the application. This section is also optional. It should not appear more than once in a SOAP message.\n",
    "\n",
    "\n",
    "Shortcomings of soap:\n",
    "\n",
    "As SOAP can only transfer messages as XML files, your SOAP API will be less performant, as XML is a verbose format compared to JSON. API calls made to your server will need more bandwidth and it will take more time to process the request and transfer the response back to the client.\n",
    "\n",
    "In SOAP, the client-server communication depends on WSDL (Web Service Description Language) contracts, which implies tight coupling. Therefore, it’s not recommended for loosely coupled applications as you can’t opt out of using a contract between the client and the server.\n",
    "\n",
    "SOAP also has a higher learning curve, is harder to code, and can’t be tested in the web browser (as opposed to REST). With SOAP, you need to generate contracts in WSDL, create client stubs, follow strict specifications, and more. This also means that as a programmer, you’ll also have less freedom of choice.\n",
    "\n",
    "Poorer performance, more complexity, less flexibility."
   ]
  },
  {
   "cell_type": "markdown",
   "id": "34dedfec-87bd-4425-89ec-e88482c9dbb9",
   "metadata": {},
   "source": [
    "Q5. Differentiate between REST and SOAP."
   ]
  },
  {
   "cell_type": "markdown",
   "id": "85545e14-7c28-427f-b82b-ff1518a49bf7",
   "metadata": {},
   "source": [
    "SOAP:\n",
    "\n",
    ". SOAP (Simple Object Access Protocol) is a protocol with specific requirements like XML messaging\n",
    "\n",
    ". Heavier and needs more bandwidth\n",
    "\n",
    ". It defines its own security\n",
    "\n",
    ". It permits XML-based data format only\n",
    "\n",
    ". SOAP calls cannot be cached\n",
    "\n",
    "\n",
    "REST:\n",
    "\n",
    ". REST (Representational State Transfer) is a set of guidelines (architectural style) offering flexible implementation\n",
    "\n",
    ". Lightweight and needs less bandwidth\n",
    "\n",
    ". It inherits security from the underlying transport\n",
    "\n",
    ". It permits different data formats such as plain text, HTML, XML, JSON, etc.\n",
    "\n",
    ". REST calls can be cached\n"
   ]
  },
  {
   "cell_type": "markdown",
   "id": "86664599-b613-4ace-a223-3a64721a9ef8",
   "metadata": {},
   "source": [
    "---"
   ]
  },
  {
   "cell_type": "code",
   "execution_count": null,
   "id": "052a4086-a1e3-4993-95fb-b19c0baa0808",
   "metadata": {},
   "outputs": [],
   "source": []
  }
 ],
 "metadata": {
  "kernelspec": {
   "display_name": "Python 3 (ipykernel)",
   "language": "python",
   "name": "python3"
  },
  "language_info": {
   "codemirror_mode": {
    "name": "ipython",
    "version": 3
   },
   "file_extension": ".py",
   "mimetype": "text/x-python",
   "name": "python",
   "nbconvert_exporter": "python",
   "pygments_lexer": "ipython3",
   "version": "3.10.8"
  }
 },
 "nbformat": 4,
 "nbformat_minor": 5
}
